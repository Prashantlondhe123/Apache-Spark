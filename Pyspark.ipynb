{
  "cells": [
    {
      "cell_type": "markdown",
      "metadata": {
        "id": "view-in-github",
        "colab_type": "text"
      },
      "source": [
        "<a href=\"https://colab.research.google.com/github/Prashantlondhe123/Big-Data-Pyspark/blob/main/Pyspark.ipynb\" target=\"_parent\"><img src=\"https://colab.research.google.com/assets/colab-badge.svg\" alt=\"Open In Colab\"/></a>"
      ]
    },
    {
      "cell_type": "markdown",
      "source": [
        "# Pyspark"
      ],
      "metadata": {
        "application/vnd.databricks.v1+cell": {
          "title": "",
          "showTitle": false,
          "inputWidgets": {},
          "nuid": "4e55d127-1227-48ae-bd01-984bd6567a92"
        },
        "id": "d3bSfVoO20e-"
      }
    },
    {
      "cell_type": "code",
      "source": [
        "# File location and type\n",
        "file_location = \"/FileStore/tables/salaries.csv\"\n",
        "file_type = \"csv\"\n",
        "\n",
        "df=spark.read.csv(file_location,header='true' ,inferSchema='true')\n",
        "display(df)"
      ],
      "metadata": {
        "application/vnd.databricks.v1+cell": {
          "title": "",
          "showTitle": false,
          "inputWidgets": {},
          "nuid": "6482be4c-f067-47c9-b0ac-35c938b94601"
        },
        "id": "NKDhuUQG20fG",
        "outputId": "88c77bbd-5267-4727-e461-5fb41470586e"
      },
      "outputs": [
        {
          "output_type": "display_data",
          "metadata": {
            "application/vnd.databricks.v1+output": {
              "overflow": false,
              "datasetInfos": [],
              "data": [
                [
                  "google",
                  "sales executive",
                  "bachelors",
                  0
                ],
                [
                  "google",
                  "sales executive",
                  "masters",
                  0
                ],
                [
                  "google",
                  "business manager",
                  "bachelors",
                  1
                ],
                [
                  "google",
                  "business manager",
                  "masters",
                  1
                ],
                [
                  "google",
                  "computer programmer",
                  "bachelors",
                  0
                ],
                [
                  "google",
                  "computer programmer",
                  "masters",
                  1
                ],
                [
                  "abc pharma",
                  "sales executive",
                  "masters",
                  0
                ],
                [
                  "abc pharma",
                  "computer programmer",
                  "bachelors",
                  0
                ],
                [
                  "abc pharma",
                  "business manager",
                  "bachelors",
                  0
                ],
                [
                  "abc pharma",
                  "business manager",
                  "masters",
                  1
                ],
                [
                  "facebook",
                  "sales executive",
                  "bachelors",
                  1
                ],
                [
                  "facebook",
                  "sales executive",
                  "masters",
                  1
                ],
                [
                  "facebook",
                  "business manager",
                  "bachelors",
                  1
                ],
                [
                  "facebook",
                  "business manager",
                  "masters",
                  1
                ],
                [
                  "facebook",
                  "computer programmer",
                  "bachelors",
                  1
                ],
                [
                  "facebook",
                  "computer programmer",
                  "masters",
                  1
                ]
              ],
              "plotOptions": {
                "displayType": "table",
                "customPlotOptions": {},
                "pivotColumns": null,
                "pivotAggregation": null,
                "xColumns": null,
                "yColumns": null
              },
              "columnCustomDisplayInfos": {},
              "aggType": "",
              "isJsonSchema": true,
              "removedWidgets": [],
              "aggSchema": [],
              "schema": [
                {
                  "name": "company",
                  "type": "\"string\"",
                  "metadata": "{}"
                },
                {
                  "name": "job",
                  "type": "\"string\"",
                  "metadata": "{}"
                },
                {
                  "name": "degree",
                  "type": "\"string\"",
                  "metadata": "{}"
                },
                {
                  "name": "salary_more_then_100k",
                  "type": "\"integer\"",
                  "metadata": "{}"
                }
              ],
              "aggError": "",
              "aggData": [],
              "addedWidgets": {},
              "metadata": {},
              "dbfsResultPath": null,
              "type": "table",
              "aggOverflow": false,
              "aggSeriesLimitReached": false,
              "arguments": {}
            }
          },
          "data": {
            "text/html": [
              "<style scoped>\n  .table-result-container {\n    max-height: 300px;\n    overflow: auto;\n  }\n  table, th, td {\n    border: 1px solid black;\n    border-collapse: collapse;\n  }\n  th, td {\n    padding: 5px;\n  }\n  th {\n    text-align: left;\n  }\n</style><div class='table-result-container'><table class='table-result'><thead style='background-color: white'><tr><th>company</th><th>job</th><th>degree</th><th>salary_more_then_100k</th></tr></thead><tbody><tr><td>google</td><td>sales executive</td><td>bachelors</td><td>0</td></tr><tr><td>google</td><td>sales executive</td><td>masters</td><td>0</td></tr><tr><td>google</td><td>business manager</td><td>bachelors</td><td>1</td></tr><tr><td>google</td><td>business manager</td><td>masters</td><td>1</td></tr><tr><td>google</td><td>computer programmer</td><td>bachelors</td><td>0</td></tr><tr><td>google</td><td>computer programmer</td><td>masters</td><td>1</td></tr><tr><td>abc pharma</td><td>sales executive</td><td>masters</td><td>0</td></tr><tr><td>abc pharma</td><td>computer programmer</td><td>bachelors</td><td>0</td></tr><tr><td>abc pharma</td><td>business manager</td><td>bachelors</td><td>0</td></tr><tr><td>abc pharma</td><td>business manager</td><td>masters</td><td>1</td></tr><tr><td>facebook</td><td>sales executive</td><td>bachelors</td><td>1</td></tr><tr><td>facebook</td><td>sales executive</td><td>masters</td><td>1</td></tr><tr><td>facebook</td><td>business manager</td><td>bachelors</td><td>1</td></tr><tr><td>facebook</td><td>business manager</td><td>masters</td><td>1</td></tr><tr><td>facebook</td><td>computer programmer</td><td>bachelors</td><td>1</td></tr><tr><td>facebook</td><td>computer programmer</td><td>masters</td><td>1</td></tr></tbody></table></div>"
            ]
          },
          "transient": null
        }
      ],
      "execution_count": null
    },
    {
      "cell_type": "code",
      "source": [
        "display(df.head(5))"
      ],
      "metadata": {
        "application/vnd.databricks.v1+cell": {
          "title": "",
          "showTitle": false,
          "inputWidgets": {},
          "nuid": "bd82bb99-1479-4d5c-be10-8c36df0f1d44"
        },
        "id": "Kyp_X-fj20fK",
        "outputId": "efabbd13-3174-4205-c593-024331d43c5b"
      },
      "outputs": [
        {
          "output_type": "display_data",
          "metadata": {
            "application/vnd.databricks.v1+output": {
              "overflow": false,
              "datasetInfos": [],
              "data": [
                [
                  "google",
                  "sales executive",
                  "bachelors",
                  0
                ],
                [
                  "google",
                  "sales executive",
                  "masters",
                  0
                ],
                [
                  "google",
                  "business manager",
                  "bachelors",
                  1
                ],
                [
                  "google",
                  "business manager",
                  "masters",
                  1
                ],
                [
                  "google",
                  "computer programmer",
                  "bachelors",
                  0
                ]
              ],
              "plotOptions": {
                "displayType": "table",
                "customPlotOptions": {},
                "pivotColumns": null,
                "pivotAggregation": null,
                "xColumns": null,
                "yColumns": null
              },
              "columnCustomDisplayInfos": {},
              "aggType": "",
              "isJsonSchema": true,
              "removedWidgets": [],
              "aggSchema": [],
              "schema": [
                {
                  "name": "company",
                  "type": "\"string\"",
                  "metadata": "{}"
                },
                {
                  "name": "job",
                  "type": "\"string\"",
                  "metadata": "{}"
                },
                {
                  "name": "degree",
                  "type": "\"string\"",
                  "metadata": "{}"
                },
                {
                  "name": "salary_more_then_100k",
                  "type": "\"long\"",
                  "metadata": "{}"
                }
              ],
              "aggError": "",
              "aggData": [],
              "addedWidgets": {},
              "metadata": {},
              "dbfsResultPath": null,
              "type": "table",
              "aggOverflow": false,
              "aggSeriesLimitReached": false,
              "arguments": {}
            }
          },
          "data": {
            "text/html": [
              "<style scoped>\n  .table-result-container {\n    max-height: 300px;\n    overflow: auto;\n  }\n  table, th, td {\n    border: 1px solid black;\n    border-collapse: collapse;\n  }\n  th, td {\n    padding: 5px;\n  }\n  th {\n    text-align: left;\n  }\n</style><div class='table-result-container'><table class='table-result'><thead style='background-color: white'><tr><th>company</th><th>job</th><th>degree</th><th>salary_more_then_100k</th></tr></thead><tbody><tr><td>google</td><td>sales executive</td><td>bachelors</td><td>0</td></tr><tr><td>google</td><td>sales executive</td><td>masters</td><td>0</td></tr><tr><td>google</td><td>business manager</td><td>bachelors</td><td>1</td></tr><tr><td>google</td><td>business manager</td><td>masters</td><td>1</td></tr><tr><td>google</td><td>computer programmer</td><td>bachelors</td><td>0</td></tr></tbody></table></div>"
            ]
          },
          "transient": null
        }
      ],
      "execution_count": null
    },
    {
      "cell_type": "code",
      "source": [
        "display(df.tail(3))"
      ],
      "metadata": {
        "application/vnd.databricks.v1+cell": {
          "title": "",
          "showTitle": false,
          "inputWidgets": {},
          "nuid": "b5f66379-6f7f-42ec-8e82-d0e0926a1721"
        },
        "id": "sE33q0Un20fL",
        "outputId": "afb0ffa8-95ff-4cb3-e89a-f81613cfc34b"
      },
      "outputs": [
        {
          "output_type": "display_data",
          "metadata": {
            "application/vnd.databricks.v1+output": {
              "overflow": false,
              "datasetInfos": [],
              "data": [
                [
                  "facebook",
                  "business manager",
                  "masters",
                  1
                ],
                [
                  "facebook",
                  "computer programmer",
                  "bachelors",
                  1
                ],
                [
                  "facebook",
                  "computer programmer",
                  "masters",
                  1
                ]
              ],
              "plotOptions": {
                "displayType": "table",
                "customPlotOptions": {},
                "pivotColumns": null,
                "pivotAggregation": null,
                "xColumns": null,
                "yColumns": null
              },
              "columnCustomDisplayInfos": {},
              "aggType": "",
              "isJsonSchema": true,
              "removedWidgets": [],
              "aggSchema": [],
              "schema": [
                {
                  "name": "company",
                  "type": "\"string\"",
                  "metadata": "{}"
                },
                {
                  "name": "job",
                  "type": "\"string\"",
                  "metadata": "{}"
                },
                {
                  "name": "degree",
                  "type": "\"string\"",
                  "metadata": "{}"
                },
                {
                  "name": "salary_more_then_100k",
                  "type": "\"long\"",
                  "metadata": "{}"
                }
              ],
              "aggError": "",
              "aggData": [],
              "addedWidgets": {},
              "metadata": {},
              "dbfsResultPath": null,
              "type": "table",
              "aggOverflow": false,
              "aggSeriesLimitReached": false,
              "arguments": {}
            }
          },
          "data": {
            "text/html": [
              "<style scoped>\n  .table-result-container {\n    max-height: 300px;\n    overflow: auto;\n  }\n  table, th, td {\n    border: 1px solid black;\n    border-collapse: collapse;\n  }\n  th, td {\n    padding: 5px;\n  }\n  th {\n    text-align: left;\n  }\n</style><div class='table-result-container'><table class='table-result'><thead style='background-color: white'><tr><th>company</th><th>job</th><th>degree</th><th>salary_more_then_100k</th></tr></thead><tbody><tr><td>facebook</td><td>business manager</td><td>masters</td><td>1</td></tr><tr><td>facebook</td><td>computer programmer</td><td>bachelors</td><td>1</td></tr><tr><td>facebook</td><td>computer programmer</td><td>masters</td><td>1</td></tr></tbody></table></div>"
            ]
          },
          "transient": null
        }
      ],
      "execution_count": null
    },
    {
      "cell_type": "code",
      "source": [
        "display(df.select(['company','job','degree']))"
      ],
      "metadata": {
        "application/vnd.databricks.v1+cell": {
          "title": "",
          "showTitle": false,
          "inputWidgets": {},
          "nuid": "db9631f6-bb4a-42ca-8a3c-0d48af932331"
        },
        "id": "hZpFlenT20fM",
        "outputId": "33d33e46-0138-465c-b6fc-f5812b101187"
      },
      "outputs": [
        {
          "output_type": "display_data",
          "metadata": {
            "application/vnd.databricks.v1+output": {
              "overflow": false,
              "datasetInfos": [],
              "data": [
                [
                  "google",
                  "sales executive",
                  "bachelors"
                ],
                [
                  "google",
                  "sales executive",
                  "masters"
                ],
                [
                  "google",
                  "business manager",
                  "bachelors"
                ],
                [
                  "google",
                  "business manager",
                  "masters"
                ],
                [
                  "google",
                  "computer programmer",
                  "bachelors"
                ],
                [
                  "google",
                  "computer programmer",
                  "masters"
                ],
                [
                  "abc pharma",
                  "sales executive",
                  "masters"
                ],
                [
                  "abc pharma",
                  "computer programmer",
                  "bachelors"
                ],
                [
                  "abc pharma",
                  "business manager",
                  "bachelors"
                ],
                [
                  "abc pharma",
                  "business manager",
                  "masters"
                ],
                [
                  "facebook",
                  "sales executive",
                  "bachelors"
                ],
                [
                  "facebook",
                  "sales executive",
                  "masters"
                ],
                [
                  "facebook",
                  "business manager",
                  "bachelors"
                ],
                [
                  "facebook",
                  "business manager",
                  "masters"
                ],
                [
                  "facebook",
                  "computer programmer",
                  "bachelors"
                ],
                [
                  "facebook",
                  "computer programmer",
                  "masters"
                ]
              ],
              "plotOptions": {
                "displayType": "table",
                "customPlotOptions": {},
                "pivotColumns": null,
                "pivotAggregation": null,
                "xColumns": null,
                "yColumns": null
              },
              "columnCustomDisplayInfos": {},
              "aggType": "",
              "isJsonSchema": true,
              "removedWidgets": [],
              "aggSchema": [],
              "schema": [
                {
                  "name": "company",
                  "type": "\"string\"",
                  "metadata": "{}"
                },
                {
                  "name": "job",
                  "type": "\"string\"",
                  "metadata": "{}"
                },
                {
                  "name": "degree",
                  "type": "\"string\"",
                  "metadata": "{}"
                }
              ],
              "aggError": "",
              "aggData": [],
              "addedWidgets": {},
              "metadata": {},
              "dbfsResultPath": null,
              "type": "table",
              "aggOverflow": false,
              "aggSeriesLimitReached": false,
              "arguments": {}
            }
          },
          "data": {
            "text/html": [
              "<style scoped>\n  .table-result-container {\n    max-height: 300px;\n    overflow: auto;\n  }\n  table, th, td {\n    border: 1px solid black;\n    border-collapse: collapse;\n  }\n  th, td {\n    padding: 5px;\n  }\n  th {\n    text-align: left;\n  }\n</style><div class='table-result-container'><table class='table-result'><thead style='background-color: white'><tr><th>company</th><th>job</th><th>degree</th></tr></thead><tbody><tr><td>google</td><td>sales executive</td><td>bachelors</td></tr><tr><td>google</td><td>sales executive</td><td>masters</td></tr><tr><td>google</td><td>business manager</td><td>bachelors</td></tr><tr><td>google</td><td>business manager</td><td>masters</td></tr><tr><td>google</td><td>computer programmer</td><td>bachelors</td></tr><tr><td>google</td><td>computer programmer</td><td>masters</td></tr><tr><td>abc pharma</td><td>sales executive</td><td>masters</td></tr><tr><td>abc pharma</td><td>computer programmer</td><td>bachelors</td></tr><tr><td>abc pharma</td><td>business manager</td><td>bachelors</td></tr><tr><td>abc pharma</td><td>business manager</td><td>masters</td></tr><tr><td>facebook</td><td>sales executive</td><td>bachelors</td></tr><tr><td>facebook</td><td>sales executive</td><td>masters</td></tr><tr><td>facebook</td><td>business manager</td><td>bachelors</td></tr><tr><td>facebook</td><td>business manager</td><td>masters</td></tr><tr><td>facebook</td><td>computer programmer</td><td>bachelors</td></tr><tr><td>facebook</td><td>computer programmer</td><td>masters</td></tr></tbody></table></div>"
            ]
          },
          "transient": null
        }
      ],
      "execution_count": null
    },
    {
      "cell_type": "code",
      "source": [
        "df.dtypes"
      ],
      "metadata": {
        "application/vnd.databricks.v1+cell": {
          "title": "",
          "showTitle": false,
          "inputWidgets": {},
          "nuid": "0372dc7c-fd55-447e-87c4-caa17dfa558b"
        },
        "id": "4XyEvaes20fN",
        "outputId": "638c0772-3589-46b7-b0ce-87572db1523f"
      },
      "outputs": [
        {
          "output_type": "display_data",
          "metadata": {
            "application/vnd.databricks.v1+output": {
              "datasetInfos": [],
              "data": "Out[12]: [('company', 'string'),\n ('job', 'string'),\n ('degree', 'string'),\n ('salary_more_then_100k', 'int')]",
              "removedWidgets": [],
              "addedWidgets": {},
              "metadata": {},
              "type": "ansi",
              "arguments": {}
            }
          },
          "data": {
            "text/plain": [
              "Out[12]: [('company', 'string'),\n ('job', 'string'),\n ('degree', 'string'),\n ('salary_more_then_100k', 'int')]"
            ]
          },
          "transient": null
        }
      ],
      "execution_count": null
    },
    {
      "cell_type": "code",
      "source": [
        "display(df.describe())"
      ],
      "metadata": {
        "application/vnd.databricks.v1+cell": {
          "title": "",
          "showTitle": false,
          "inputWidgets": {},
          "nuid": "91feb063-38fd-4f65-926d-7667f2b9344a"
        },
        "id": "bthSD6zP20fO",
        "outputId": "7fad953c-bbf2-4d71-cc98-f54fd86b86c9"
      },
      "outputs": [
        {
          "output_type": "display_data",
          "metadata": {
            "application/vnd.databricks.v1+output": {
              "overflow": false,
              "datasetInfos": [],
              "data": [
                [
                  "count",
                  "16",
                  "16",
                  "16",
                  "16"
                ],
                [
                  "mean",
                  null,
                  null,
                  null,
                  "0.625"
                ],
                [
                  "stddev",
                  null,
                  null,
                  null,
                  "0.49999999999999994"
                ],
                [
                  "min",
                  "abc pharma",
                  "business manager",
                  "bachelors",
                  "0"
                ],
                [
                  "max",
                  "google",
                  "sales executive",
                  "masters",
                  "1"
                ]
              ],
              "plotOptions": {
                "displayType": "table",
                "customPlotOptions": {},
                "pivotColumns": null,
                "pivotAggregation": null,
                "xColumns": null,
                "yColumns": null
              },
              "columnCustomDisplayInfos": {},
              "aggType": "",
              "isJsonSchema": true,
              "removedWidgets": [],
              "aggSchema": [],
              "schema": [
                {
                  "name": "summary",
                  "type": "\"string\"",
                  "metadata": "{}"
                },
                {
                  "name": "company",
                  "type": "\"string\"",
                  "metadata": "{}"
                },
                {
                  "name": "job",
                  "type": "\"string\"",
                  "metadata": "{}"
                },
                {
                  "name": "degree",
                  "type": "\"string\"",
                  "metadata": "{}"
                },
                {
                  "name": "salary_more_then_100k",
                  "type": "\"string\"",
                  "metadata": "{}"
                }
              ],
              "aggError": "",
              "aggData": [],
              "addedWidgets": {},
              "metadata": {},
              "dbfsResultPath": null,
              "type": "table",
              "aggOverflow": false,
              "aggSeriesLimitReached": false,
              "arguments": {}
            }
          },
          "data": {
            "text/html": [
              "<style scoped>\n  .table-result-container {\n    max-height: 300px;\n    overflow: auto;\n  }\n  table, th, td {\n    border: 1px solid black;\n    border-collapse: collapse;\n  }\n  th, td {\n    padding: 5px;\n  }\n  th {\n    text-align: left;\n  }\n</style><div class='table-result-container'><table class='table-result'><thead style='background-color: white'><tr><th>summary</th><th>company</th><th>job</th><th>degree</th><th>salary_more_then_100k</th></tr></thead><tbody><tr><td>count</td><td>16</td><td>16</td><td>16</td><td>16</td></tr><tr><td>mean</td><td>null</td><td>null</td><td>null</td><td>0.625</td></tr><tr><td>stddev</td><td>null</td><td>null</td><td>null</td><td>0.49999999999999994</td></tr><tr><td>min</td><td>abc pharma</td><td>business manager</td><td>bachelors</td><td>0</td></tr><tr><td>max</td><td>google</td><td>sales executive</td><td>masters</td><td>1</td></tr></tbody></table></div>"
            ]
          },
          "transient": null
        }
      ],
      "execution_count": null
    },
    {
      "cell_type": "code",
      "source": [
        "type(df)"
      ],
      "metadata": {
        "application/vnd.databricks.v1+cell": {
          "title": "",
          "showTitle": false,
          "inputWidgets": {},
          "nuid": "82117e9d-f055-4f0b-92aa-6f99346fc6e6"
        },
        "id": "dRG00ljr20fP",
        "outputId": "1fc8832e-94e3-468c-e700-ebae2929e223"
      },
      "outputs": [
        {
          "output_type": "display_data",
          "metadata": {
            "application/vnd.databricks.v1+output": {
              "datasetInfos": [],
              "data": "Out[15]: pyspark.sql.dataframe.DataFrame",
              "removedWidgets": [],
              "addedWidgets": {},
              "metadata": {},
              "type": "ansi",
              "arguments": {}
            }
          },
          "data": {
            "text/plain": [
              "Out[15]: pyspark.sql.dataframe.DataFrame"
            ]
          },
          "transient": null
        }
      ],
      "execution_count": null
    },
    {
      "cell_type": "markdown",
      "source": [
        "## Adding columns"
      ],
      "metadata": {
        "application/vnd.databricks.v1+cell": {
          "title": "",
          "showTitle": false,
          "inputWidgets": {},
          "nuid": "490d74fa-59b7-4f38-a0e9-db6243a10396"
        },
        "id": "V2rPfpzO20fQ"
      }
    },
    {
      "cell_type": "code",
      "source": [
        "df1=df.withColumn('salary_more_then_100k + 2',df['salary_more_then_100k'] + 2)\n",
        "display(df1)"
      ],
      "metadata": {
        "application/vnd.databricks.v1+cell": {
          "title": "",
          "showTitle": false,
          "inputWidgets": {},
          "nuid": "e9488412-6111-48f4-b956-d1b6d2e506a0"
        },
        "id": "vDUfcWaP20fS",
        "outputId": "3f7d9778-fb66-4beb-852a-343991bb785e"
      },
      "outputs": [
        {
          "output_type": "display_data",
          "metadata": {
            "application/vnd.databricks.v1+output": {
              "overflow": false,
              "datasetInfos": [],
              "data": [
                [
                  "google",
                  "sales executive",
                  "bachelors",
                  0,
                  2
                ],
                [
                  "google",
                  "sales executive",
                  "masters",
                  0,
                  2
                ],
                [
                  "google",
                  "business manager",
                  "bachelors",
                  1,
                  3
                ],
                [
                  "google",
                  "business manager",
                  "masters",
                  1,
                  3
                ],
                [
                  "google",
                  "computer programmer",
                  "bachelors",
                  0,
                  2
                ],
                [
                  "google",
                  "computer programmer",
                  "masters",
                  1,
                  3
                ],
                [
                  "abc pharma",
                  "sales executive",
                  "masters",
                  0,
                  2
                ],
                [
                  "abc pharma",
                  "computer programmer",
                  "bachelors",
                  0,
                  2
                ],
                [
                  "abc pharma",
                  "business manager",
                  "bachelors",
                  0,
                  2
                ],
                [
                  "abc pharma",
                  "business manager",
                  "masters",
                  1,
                  3
                ],
                [
                  "facebook",
                  "sales executive",
                  "bachelors",
                  1,
                  3
                ],
                [
                  "facebook",
                  "sales executive",
                  "masters",
                  1,
                  3
                ],
                [
                  "facebook",
                  "business manager",
                  "bachelors",
                  1,
                  3
                ],
                [
                  "facebook",
                  "business manager",
                  "masters",
                  1,
                  3
                ],
                [
                  "facebook",
                  "computer programmer",
                  "bachelors",
                  1,
                  3
                ],
                [
                  "facebook",
                  "computer programmer",
                  "masters",
                  1,
                  3
                ]
              ],
              "plotOptions": {
                "displayType": "table",
                "customPlotOptions": {},
                "pivotColumns": null,
                "pivotAggregation": null,
                "xColumns": null,
                "yColumns": null
              },
              "columnCustomDisplayInfos": {},
              "aggType": "",
              "isJsonSchema": true,
              "removedWidgets": [],
              "aggSchema": [],
              "schema": [
                {
                  "name": "company",
                  "type": "\"string\"",
                  "metadata": "{}"
                },
                {
                  "name": "job",
                  "type": "\"string\"",
                  "metadata": "{}"
                },
                {
                  "name": "degree",
                  "type": "\"string\"",
                  "metadata": "{}"
                },
                {
                  "name": "salary_more_then_100k",
                  "type": "\"integer\"",
                  "metadata": "{}"
                },
                {
                  "name": "salary_more_then_100k + 2",
                  "type": "\"integer\"",
                  "metadata": "{}"
                }
              ],
              "aggError": "",
              "aggData": [],
              "addedWidgets": {},
              "metadata": {},
              "dbfsResultPath": null,
              "type": "table",
              "aggOverflow": false,
              "aggSeriesLimitReached": false,
              "arguments": {}
            }
          },
          "data": {
            "text/html": [
              "<style scoped>\n  .table-result-container {\n    max-height: 300px;\n    overflow: auto;\n  }\n  table, th, td {\n    border: 1px solid black;\n    border-collapse: collapse;\n  }\n  th, td {\n    padding: 5px;\n  }\n  th {\n    text-align: left;\n  }\n</style><div class='table-result-container'><table class='table-result'><thead style='background-color: white'><tr><th>company</th><th>job</th><th>degree</th><th>salary_more_then_100k</th><th>salary_more_then_100k + 2</th></tr></thead><tbody><tr><td>google</td><td>sales executive</td><td>bachelors</td><td>0</td><td>2</td></tr><tr><td>google</td><td>sales executive</td><td>masters</td><td>0</td><td>2</td></tr><tr><td>google</td><td>business manager</td><td>bachelors</td><td>1</td><td>3</td></tr><tr><td>google</td><td>business manager</td><td>masters</td><td>1</td><td>3</td></tr><tr><td>google</td><td>computer programmer</td><td>bachelors</td><td>0</td><td>2</td></tr><tr><td>google</td><td>computer programmer</td><td>masters</td><td>1</td><td>3</td></tr><tr><td>abc pharma</td><td>sales executive</td><td>masters</td><td>0</td><td>2</td></tr><tr><td>abc pharma</td><td>computer programmer</td><td>bachelors</td><td>0</td><td>2</td></tr><tr><td>abc pharma</td><td>business manager</td><td>bachelors</td><td>0</td><td>2</td></tr><tr><td>abc pharma</td><td>business manager</td><td>masters</td><td>1</td><td>3</td></tr><tr><td>facebook</td><td>sales executive</td><td>bachelors</td><td>1</td><td>3</td></tr><tr><td>facebook</td><td>sales executive</td><td>masters</td><td>1</td><td>3</td></tr><tr><td>facebook</td><td>business manager</td><td>bachelors</td><td>1</td><td>3</td></tr><tr><td>facebook</td><td>business manager</td><td>masters</td><td>1</td><td>3</td></tr><tr><td>facebook</td><td>computer programmer</td><td>bachelors</td><td>1</td><td>3</td></tr><tr><td>facebook</td><td>computer programmer</td><td>masters</td><td>1</td><td>3</td></tr></tbody></table></div>"
            ]
          },
          "transient": null
        }
      ],
      "execution_count": null
    },
    {
      "cell_type": "markdown",
      "source": [
        "## Drop Columns"
      ],
      "metadata": {
        "application/vnd.databricks.v1+cell": {
          "title": "",
          "showTitle": false,
          "inputWidgets": {},
          "nuid": "07b94631-a91b-481e-8ef1-5912e560df27"
        },
        "id": "SauW6A4420fT"
      }
    },
    {
      "cell_type": "code",
      "source": [
        "df1.drop('salary_more_then_100k + 2').show()"
      ],
      "metadata": {
        "application/vnd.databricks.v1+cell": {
          "title": "",
          "showTitle": false,
          "inputWidgets": {},
          "nuid": "bce0a965-2a9a-4676-a684-d26b00137115"
        },
        "id": "bOB-O0gH20fT",
        "outputId": "5ff97e99-4e31-44c0-f0cd-2c828c86f9ea"
      },
      "outputs": [
        {
          "output_type": "display_data",
          "metadata": {
            "application/vnd.databricks.v1+output": {
              "datasetInfos": [],
              "data": "+----------+-------------------+---------+---------------------+\n|   company|                job|   degree|salary_more_then_100k|\n+----------+-------------------+---------+---------------------+\n|    google|    sales executive|bachelors|                    0|\n|    google|    sales executive|  masters|                    0|\n|    google|   business manager|bachelors|                    1|\n|    google|   business manager|  masters|                    1|\n|    google|computer programmer|bachelors|                    0|\n|    google|computer programmer|  masters|                    1|\n|abc pharma|    sales executive|  masters|                    0|\n|abc pharma|computer programmer|bachelors|                    0|\n|abc pharma|   business manager|bachelors|                    0|\n|abc pharma|   business manager|  masters|                    1|\n|  facebook|    sales executive|bachelors|                    1|\n|  facebook|    sales executive|  masters|                    1|\n|  facebook|   business manager|bachelors|                    1|\n|  facebook|   business manager|  masters|                    1|\n|  facebook|computer programmer|bachelors|                    1|\n|  facebook|computer programmer|  masters|                    1|\n+----------+-------------------+---------+---------------------+\n\n",
              "removedWidgets": [],
              "addedWidgets": {},
              "metadata": {},
              "type": "ansi",
              "arguments": {}
            }
          },
          "data": {
            "text/plain": [
              "+----------+-------------------+---------+---------------------+\n|   company|                job|   degree|salary_more_then_100k|\n+----------+-------------------+---------+---------------------+\n|    google|    sales executive|bachelors|                    0|\n|    google|    sales executive|  masters|                    0|\n|    google|   business manager|bachelors|                    1|\n|    google|   business manager|  masters|                    1|\n|    google|computer programmer|bachelors|                    0|\n|    google|computer programmer|  masters|                    1|\n|abc pharma|    sales executive|  masters|                    0|\n|abc pharma|computer programmer|bachelors|                    0|\n|abc pharma|   business manager|bachelors|                    0|\n|abc pharma|   business manager|  masters|                    1|\n|  facebook|    sales executive|bachelors|                    1|\n|  facebook|    sales executive|  masters|                    1|\n|  facebook|   business manager|bachelors|                    1|\n|  facebook|   business manager|  masters|                    1|\n|  facebook|computer programmer|bachelors|                    1|\n|  facebook|computer programmer|  masters|                    1|\n+----------+-------------------+---------+---------------------+\n\n"
            ]
          },
          "transient": null
        }
      ],
      "execution_count": null
    },
    {
      "cell_type": "code",
      "source": [
        "df2=df1.drop('salary_more_then_100k + 2')"
      ],
      "metadata": {
        "application/vnd.databricks.v1+cell": {
          "title": "",
          "showTitle": false,
          "inputWidgets": {},
          "nuid": "24f7debd-e287-4210-9962-88f0899280b4"
        },
        "id": "bypa-v2I20fV"
      },
      "outputs": [],
      "execution_count": null
    },
    {
      "cell_type": "markdown",
      "source": [
        "## Rename"
      ],
      "metadata": {
        "application/vnd.databricks.v1+cell": {
          "title": "",
          "showTitle": false,
          "inputWidgets": {},
          "nuid": "20d0cb68-0f7b-4ba8-8fe7-742077a18bd0"
        },
        "id": "XGw1lMfM20fV"
      }
    },
    {
      "cell_type": "code",
      "source": [
        "df3=df2.withColumnRenamed('salary_more_then_100k','salary_more_then_100k::')\n",
        "display(df3)"
      ],
      "metadata": {
        "application/vnd.databricks.v1+cell": {
          "title": "",
          "showTitle": false,
          "inputWidgets": {},
          "nuid": "caea7680-7a72-4419-9987-de39239ddbe1"
        },
        "id": "zo6wojbM20fW",
        "outputId": "b060b7d0-3ece-4b7d-d81e-56447ffb0c0d"
      },
      "outputs": [
        {
          "output_type": "display_data",
          "metadata": {
            "application/vnd.databricks.v1+output": {
              "overflow": false,
              "datasetInfos": [],
              "data": [
                [
                  "google",
                  "sales executive",
                  "bachelors",
                  0
                ],
                [
                  "google",
                  "sales executive",
                  "masters",
                  0
                ],
                [
                  "google",
                  "business manager",
                  "bachelors",
                  1
                ],
                [
                  "google",
                  "business manager",
                  "masters",
                  1
                ],
                [
                  "google",
                  "computer programmer",
                  "bachelors",
                  0
                ],
                [
                  "google",
                  "computer programmer",
                  "masters",
                  1
                ],
                [
                  "abc pharma",
                  "sales executive",
                  "masters",
                  0
                ],
                [
                  "abc pharma",
                  "computer programmer",
                  "bachelors",
                  0
                ],
                [
                  "abc pharma",
                  "business manager",
                  "bachelors",
                  0
                ],
                [
                  "abc pharma",
                  "business manager",
                  "masters",
                  1
                ],
                [
                  "facebook",
                  "sales executive",
                  "bachelors",
                  1
                ],
                [
                  "facebook",
                  "sales executive",
                  "masters",
                  1
                ],
                [
                  "facebook",
                  "business manager",
                  "bachelors",
                  1
                ],
                [
                  "facebook",
                  "business manager",
                  "masters",
                  1
                ],
                [
                  "facebook",
                  "computer programmer",
                  "bachelors",
                  1
                ],
                [
                  "facebook",
                  "computer programmer",
                  "masters",
                  1
                ]
              ],
              "plotOptions": {
                "displayType": "table",
                "customPlotOptions": {},
                "pivotColumns": null,
                "pivotAggregation": null,
                "xColumns": null,
                "yColumns": null
              },
              "columnCustomDisplayInfos": {},
              "aggType": "",
              "isJsonSchema": true,
              "removedWidgets": [],
              "aggSchema": [],
              "schema": [
                {
                  "name": "company",
                  "type": "\"string\"",
                  "metadata": "{}"
                },
                {
                  "name": "job",
                  "type": "\"string\"",
                  "metadata": "{}"
                },
                {
                  "name": "degree",
                  "type": "\"string\"",
                  "metadata": "{}"
                },
                {
                  "name": "salary_more_then_100k::",
                  "type": "\"integer\"",
                  "metadata": "{}"
                }
              ],
              "aggError": "",
              "aggData": [],
              "addedWidgets": {},
              "metadata": {},
              "dbfsResultPath": null,
              "type": "table",
              "aggOverflow": false,
              "aggSeriesLimitReached": false,
              "arguments": {}
            }
          },
          "data": {
            "text/html": [
              "<style scoped>\n  .table-result-container {\n    max-height: 300px;\n    overflow: auto;\n  }\n  table, th, td {\n    border: 1px solid black;\n    border-collapse: collapse;\n  }\n  th, td {\n    padding: 5px;\n  }\n  th {\n    text-align: left;\n  }\n</style><div class='table-result-container'><table class='table-result'><thead style='background-color: white'><tr><th>company</th><th>job</th><th>degree</th><th>salary_more_then_100k::</th></tr></thead><tbody><tr><td>google</td><td>sales executive</td><td>bachelors</td><td>0</td></tr><tr><td>google</td><td>sales executive</td><td>masters</td><td>0</td></tr><tr><td>google</td><td>business manager</td><td>bachelors</td><td>1</td></tr><tr><td>google</td><td>business manager</td><td>masters</td><td>1</td></tr><tr><td>google</td><td>computer programmer</td><td>bachelors</td><td>0</td></tr><tr><td>google</td><td>computer programmer</td><td>masters</td><td>1</td></tr><tr><td>abc pharma</td><td>sales executive</td><td>masters</td><td>0</td></tr><tr><td>abc pharma</td><td>computer programmer</td><td>bachelors</td><td>0</td></tr><tr><td>abc pharma</td><td>business manager</td><td>bachelors</td><td>0</td></tr><tr><td>abc pharma</td><td>business manager</td><td>masters</td><td>1</td></tr><tr><td>facebook</td><td>sales executive</td><td>bachelors</td><td>1</td></tr><tr><td>facebook</td><td>sales executive</td><td>masters</td><td>1</td></tr><tr><td>facebook</td><td>business manager</td><td>bachelors</td><td>1</td></tr><tr><td>facebook</td><td>business manager</td><td>masters</td><td>1</td></tr><tr><td>facebook</td><td>computer programmer</td><td>bachelors</td><td>1</td></tr><tr><td>facebook</td><td>computer programmer</td><td>masters</td><td>1</td></tr></tbody></table></div>"
            ]
          },
          "transient": null
        }
      ],
      "execution_count": null
    },
    {
      "cell_type": "markdown",
      "source": [
        "## Handling missing Values"
      ],
      "metadata": {
        "application/vnd.databricks.v1+cell": {
          "title": "",
          "showTitle": false,
          "inputWidgets": {},
          "nuid": "7f23e330-0383-4e8b-af6c-768f313682eb"
        },
        "id": "cy405Fko20fX"
      }
    },
    {
      "cell_type": "markdown",
      "source": [
        "- Delete rows with null values"
      ],
      "metadata": {
        "application/vnd.databricks.v1+cell": {
          "title": "",
          "showTitle": false,
          "inputWidgets": {},
          "nuid": "c66d28b0-9614-40c4-82ab-db24abad95d6"
        },
        "id": "bE13L6LT20fX"
      }
    },
    {
      "cell_type": "code",
      "source": [
        "df3.na.drop()"
      ],
      "metadata": {
        "application/vnd.databricks.v1+cell": {
          "title": "",
          "showTitle": false,
          "inputWidgets": {},
          "nuid": "897a7adb-1703-4a73-a6e5-84c4804495be"
        },
        "id": "li95BHWR20fY",
        "outputId": "348ad9a1-5a2c-4713-bcf1-3dbe59ad2e0b"
      },
      "outputs": [
        {
          "output_type": "display_data",
          "metadata": {
            "application/vnd.databricks.v1+output": {
              "datasetInfos": [],
              "data": "Out[25]: DataFrame[company: string, job: string, degree: string, salary_more_then_100k::: int]",
              "removedWidgets": [],
              "addedWidgets": {},
              "metadata": {},
              "type": "ansi",
              "arguments": {}
            }
          },
          "data": {
            "text/plain": [
              "Out[25]: DataFrame[company: string, job: string, degree: string, salary_more_then_100k::: int]"
            ]
          },
          "transient": null
        }
      ],
      "execution_count": null
    },
    {
      "cell_type": "markdown",
      "source": [
        "- Drop Rows with all null values"
      ],
      "metadata": {
        "application/vnd.databricks.v1+cell": {
          "title": "",
          "showTitle": false,
          "inputWidgets": {},
          "nuid": "1ce15c79-67a3-4bb4-83b3-e05ba18e7b9d"
        },
        "id": "Du6-DoDA20fZ"
      }
    },
    {
      "cell_type": "code",
      "source": [
        "df.na.drop(how='all')"
      ],
      "metadata": {
        "application/vnd.databricks.v1+cell": {
          "title": "",
          "showTitle": false,
          "inputWidgets": {},
          "nuid": "a43d4922-bdbf-4737-a76c-7b13f68168f1"
        },
        "id": "sdGfxHBx20fZ",
        "outputId": "3bf27734-5ab2-46e1-c8c1-b0944198673c"
      },
      "outputs": [
        {
          "output_type": "display_data",
          "metadata": {
            "application/vnd.databricks.v1+output": {
              "datasetInfos": [],
              "data": "Out[26]: DataFrame[company: string, job: string, degree: string, salary_more_then_100k: int]",
              "removedWidgets": [],
              "addedWidgets": {},
              "metadata": {},
              "type": "ansi",
              "arguments": {}
            }
          },
          "data": {
            "text/plain": [
              "Out[26]: DataFrame[company: string, job: string, degree: string, salary_more_then_100k: int]"
            ]
          },
          "transient": null
        }
      ],
      "execution_count": null
    },
    {
      "cell_type": "markdown",
      "source": [
        "- drop ..default ..single values"
      ],
      "metadata": {
        "application/vnd.databricks.v1+cell": {
          "title": "",
          "showTitle": false,
          "inputWidgets": {},
          "nuid": "fa00a285-68a9-4182-a6de-d903fb28f629"
        },
        "id": "FxQx2vx320fa"
      }
    },
    {
      "cell_type": "code",
      "source": [
        "df.na.drop(how='any')"
      ],
      "metadata": {
        "application/vnd.databricks.v1+cell": {
          "title": "",
          "showTitle": false,
          "inputWidgets": {},
          "nuid": "f3688542-e4f4-4b6f-bb10-15a4181ffd24"
        },
        "id": "tGE-SdWD20fa",
        "outputId": "58c456e2-d72f-4b85-ce30-04e9ab517bdb"
      },
      "outputs": [
        {
          "output_type": "display_data",
          "metadata": {
            "application/vnd.databricks.v1+output": {
              "datasetInfos": [],
              "data": "Out[27]: DataFrame[company: string, job: string, degree: string, salary_more_then_100k: int]",
              "removedWidgets": [],
              "addedWidgets": {},
              "metadata": {},
              "type": "ansi",
              "arguments": {}
            }
          },
          "data": {
            "text/plain": [
              "Out[27]: DataFrame[company: string, job: string, degree: string, salary_more_then_100k: int]"
            ]
          },
          "transient": null
        }
      ],
      "execution_count": null
    },
    {
      "cell_type": "code",
      "source": [
        "df.na.drop(how='any',thresh=2).show()"
      ],
      "metadata": {
        "application/vnd.databricks.v1+cell": {
          "title": "",
          "showTitle": false,
          "inputWidgets": {},
          "nuid": "07e29d95-f124-4f8a-bf5a-f531b85bccc2"
        },
        "id": "207Zalaf20fb",
        "outputId": "c077f175-a5d8-412c-8c73-0fede5c3ef50"
      },
      "outputs": [
        {
          "output_type": "display_data",
          "metadata": {
            "application/vnd.databricks.v1+output": {
              "datasetInfos": [],
              "data": "+----------+-------------------+---------+---------------------+\n|   company|                job|   degree|salary_more_then_100k|\n+----------+-------------------+---------+---------------------+\n|    google|    sales executive|bachelors|                    0|\n|    google|    sales executive|  masters|                    0|\n|    google|   business manager|bachelors|                    1|\n|    google|   business manager|  masters|                    1|\n|    google|computer programmer|bachelors|                    0|\n|    google|computer programmer|  masters|                    1|\n|abc pharma|    sales executive|  masters|                    0|\n|abc pharma|computer programmer|bachelors|                    0|\n|abc pharma|   business manager|bachelors|                    0|\n|abc pharma|   business manager|  masters|                    1|\n|  facebook|    sales executive|bachelors|                    1|\n|  facebook|    sales executive|  masters|                    1|\n|  facebook|   business manager|bachelors|                    1|\n|  facebook|   business manager|  masters|                    1|\n|  facebook|computer programmer|bachelors|                    1|\n|  facebook|computer programmer|  masters|                    1|\n+----------+-------------------+---------+---------------------+\n\n",
              "removedWidgets": [],
              "addedWidgets": {},
              "metadata": {},
              "type": "ansi",
              "arguments": {}
            }
          },
          "data": {
            "text/plain": [
              "+----------+-------------------+---------+---------------------+\n|   company|                job|   degree|salary_more_then_100k|\n+----------+-------------------+---------+---------------------+\n|    google|    sales executive|bachelors|                    0|\n|    google|    sales executive|  masters|                    0|\n|    google|   business manager|bachelors|                    1|\n|    google|   business manager|  masters|                    1|\n|    google|computer programmer|bachelors|                    0|\n|    google|computer programmer|  masters|                    1|\n|abc pharma|    sales executive|  masters|                    0|\n|abc pharma|computer programmer|bachelors|                    0|\n|abc pharma|   business manager|bachelors|                    0|\n|abc pharma|   business manager|  masters|                    1|\n|  facebook|    sales executive|bachelors|                    1|\n|  facebook|    sales executive|  masters|                    1|\n|  facebook|   business manager|bachelors|                    1|\n|  facebook|   business manager|  masters|                    1|\n|  facebook|computer programmer|bachelors|                    1|\n|  facebook|computer programmer|  masters|                    1|\n+----------+-------------------+---------+---------------------+\n\n"
            ]
          },
          "transient": null
        }
      ],
      "execution_count": null
    },
    {
      "cell_type": "markdown",
      "source": [
        "- Delete row when null values in columns"
      ],
      "metadata": {
        "application/vnd.databricks.v1+cell": {
          "title": "",
          "showTitle": false,
          "inputWidgets": {},
          "nuid": "fe620719-6632-42ff-8bc3-ee3433e5f6d0"
        },
        "id": "c8wBGWuC20fb"
      }
    },
    {
      "cell_type": "code",
      "source": [
        "df.na.drop(how='any',subset['salary_more_then_100k']).show()"
      ],
      "metadata": {
        "application/vnd.databricks.v1+cell": {
          "title": "",
          "showTitle": false,
          "inputWidgets": {},
          "nuid": "60247775-e6cf-410f-897c-fff8e7c34ba2"
        },
        "id": "eihaOr3v20fc",
        "outputId": "5e9db37c-4ed8-4a1b-b826-cee088b5d327"
      },
      "outputs": [
        {
          "output_type": "display_data",
          "metadata": {
            "application/vnd.databricks.v1+output": {
              "data": "\u001b[0;36m  File \u001b[0;32m\"<command-2950075883006212>\"\u001b[0;36m, line \u001b[0;32m1\u001b[0m\n\u001b[0;31m    df.na.drop(how='any',subset['salary_more_then_100k']).show()\u001b[0m\n\u001b[0m                         ^\u001b[0m\n\u001b[0;31mSyntaxError\u001b[0m\u001b[0;31m:\u001b[0m positional argument follows keyword argument\n",
              "errorSummary": "<span class='ansi-red-fg'>SyntaxError</span>: positional argument follows keyword argument (<command-2950075883006212>, line 1)",
              "metadata": {},
              "errorTraceType": "ansi",
              "type": "ipynbError",
              "arguments": {}
            }
          },
          "data": {
            "text/plain": [
              "\u001b[0;36m  File \u001b[0;32m\"<command-2950075883006212>\"\u001b[0;36m, line \u001b[0;32m1\u001b[0m\n\u001b[0;31m    df.na.drop(how='any',subset['salary_more_then_100k']).show()\u001b[0m\n\u001b[0m                         ^\u001b[0m\n\u001b[0;31mSyntaxError\u001b[0m\u001b[0;31m:\u001b[0m positional argument follows keyword argument\n"
            ]
          },
          "transient": null
        }
      ],
      "execution_count": null
    },
    {
      "cell_type": "markdown",
      "source": [
        "## Filling the missing values"
      ],
      "metadata": {
        "application/vnd.databricks.v1+cell": {
          "title": "",
          "showTitle": false,
          "inputWidgets": {},
          "nuid": "8fad84e2-860b-4821-b19b-ddd33916bafd"
        },
        "id": "vWvpgs-820fd"
      }
    },
    {
      "cell_type": "code",
      "source": [
        "df.na.fill('v','c').show()"
      ],
      "metadata": {
        "application/vnd.databricks.v1+cell": {
          "title": "",
          "showTitle": false,
          "inputWidgets": {},
          "nuid": "dd2deb54-cfbb-4797-bdff-693852beb2f8"
        },
        "id": "BF_CEzOF20fd",
        "outputId": "286badd3-c7c3-46bd-aea0-0c597b3380b2"
      },
      "outputs": [
        {
          "output_type": "display_data",
          "metadata": {
            "application/vnd.databricks.v1+output": {
              "data": "",
              "errorSummary": "",
              "metadata": {},
              "errorTraceType": null,
              "type": "ipynbError",
              "arguments": {}
            }
          },
          "data": {
            "text/html": [
              "<style scoped>\n  .ansiout {\n    display: block;\n    unicode-bidi: embed;\n    white-space: pre-wrap;\n    word-wrap: break-word;\n    word-break: break-all;\n    font-family: \"Source Code Pro\", \"Menlo\", monospace;;\n    font-size: 13px;\n    color: #555;\n    margin-left: 4px;\n    line-height: 19px;\n  }\n</style>"
            ]
          },
          "transient": null
        }
      ],
      "execution_count": null
    },
    {
      "cell_type": "code",
      "source": [
        "df.na.fill('v', ['c1' ,'c2']).show()"
      ],
      "metadata": {
        "application/vnd.databricks.v1+cell": {
          "title": "",
          "showTitle": false,
          "inputWidgets": {},
          "nuid": "f608e133-dd23-43d9-96f7-bf356b69caad"
        },
        "id": "dYxpu0qj20fe",
        "outputId": "551ecef7-fc3c-4024-c3c6-a2c813dc48c7"
      },
      "outputs": [
        {
          "output_type": "display_data",
          "metadata": {
            "application/vnd.databricks.v1+output": {
              "data": "",
              "errorSummary": "",
              "metadata": {},
              "errorTraceType": null,
              "type": "ipynbError",
              "arguments": {}
            }
          },
          "data": {
            "text/html": [
              "<style scoped>\n  .ansiout {\n    display: block;\n    unicode-bidi: embed;\n    white-space: pre-wrap;\n    word-wrap: break-word;\n    word-break: break-all;\n    font-family: \"Source Code Pro\", \"Menlo\", monospace;;\n    font-size: 13px;\n    color: #555;\n    margin-left: 4px;\n    line-height: 19px;\n  }\n</style>"
            ]
          },
          "transient": null
        }
      ],
      "execution_count": null
    },
    {
      "cell_type": "markdown",
      "source": [
        "## Filter function"
      ],
      "metadata": {
        "application/vnd.databricks.v1+cell": {
          "title": "",
          "showTitle": false,
          "inputWidgets": {},
          "nuid": "061c6893-fd0e-4717-98ec-0a3e66a28b45"
        },
        "id": "MQzj1DVR20fe"
      }
    },
    {
      "cell_type": "code",
      "source": [
        "df.filter(\"salary_more_then_100k == 1 \").show()"
      ],
      "metadata": {
        "application/vnd.databricks.v1+cell": {
          "title": "",
          "showTitle": false,
          "inputWidgets": {},
          "nuid": "23c48df3-5eca-437c-a521-6a89c3acf657"
        },
        "id": "LwOg8Dft20fe",
        "outputId": "66fbf59d-5e5c-450d-b494-39221c4a37d1"
      },
      "outputs": [
        {
          "output_type": "display_data",
          "metadata": {
            "application/vnd.databricks.v1+output": {
              "datasetInfos": [],
              "data": "+----------+-------------------+---------+---------------------+\n|   company|                job|   degree|salary_more_then_100k|\n+----------+-------------------+---------+---------------------+\n|    google|   business manager|bachelors|                    1|\n|    google|   business manager|  masters|                    1|\n|    google|computer programmer|  masters|                    1|\n|abc pharma|   business manager|  masters|                    1|\n|  facebook|    sales executive|bachelors|                    1|\n|  facebook|    sales executive|  masters|                    1|\n|  facebook|   business manager|bachelors|                    1|\n|  facebook|   business manager|  masters|                    1|\n|  facebook|computer programmer|bachelors|                    1|\n|  facebook|computer programmer|  masters|                    1|\n+----------+-------------------+---------+---------------------+\n\n",
              "removedWidgets": [],
              "addedWidgets": {},
              "metadata": {},
              "type": "ansi",
              "arguments": {}
            }
          },
          "data": {
            "text/plain": [
              "+----------+-------------------+---------+---------------------+\n|   company|                job|   degree|salary_more_then_100k|\n+----------+-------------------+---------+---------------------+\n|    google|   business manager|bachelors|                    1|\n|    google|   business manager|  masters|                    1|\n|    google|computer programmer|  masters|                    1|\n|abc pharma|   business manager|  masters|                    1|\n|  facebook|    sales executive|bachelors|                    1|\n|  facebook|    sales executive|  masters|                    1|\n|  facebook|   business manager|bachelors|                    1|\n|  facebook|   business manager|  masters|                    1|\n|  facebook|computer programmer|bachelors|                    1|\n|  facebook|computer programmer|  masters|                    1|\n+----------+-------------------+---------+---------------------+\n\n"
            ]
          },
          "transient": null
        }
      ],
      "execution_count": null
    },
    {
      "cell_type": "code",
      "source": [
        "df.filter(\"salary_more_then_100k == 1 \").select(['company']).show()"
      ],
      "metadata": {
        "application/vnd.databricks.v1+cell": {
          "title": "",
          "showTitle": false,
          "inputWidgets": {},
          "nuid": "4bea03de-8346-4425-9d78-2767f69e52d7"
        },
        "id": "SCIB5o9G20ff",
        "outputId": "0180dc47-b035-44f6-a02b-c47ab06ca3a9"
      },
      "outputs": [
        {
          "output_type": "display_data",
          "metadata": {
            "application/vnd.databricks.v1+output": {
              "datasetInfos": [],
              "data": "+----------+\n|   company|\n+----------+\n|    google|\n|    google|\n|    google|\n|abc pharma|\n|  facebook|\n|  facebook|\n|  facebook|\n|  facebook|\n|  facebook|\n|  facebook|\n+----------+\n\n",
              "removedWidgets": [],
              "addedWidgets": {},
              "metadata": {},
              "type": "ansi",
              "arguments": {}
            }
          },
          "data": {
            "text/plain": [
              "+----------+\n|   company|\n+----------+\n|    google|\n|    google|\n|    google|\n|abc pharma|\n|  facebook|\n|  facebook|\n|  facebook|\n|  facebook|\n|  facebook|\n|  facebook|\n+----------+\n\n"
            ]
          },
          "transient": null
        }
      ],
      "execution_count": null
    },
    {
      "cell_type": "markdown",
      "source": [
        "## Groupby"
      ],
      "metadata": {
        "application/vnd.databricks.v1+cell": {
          "title": "",
          "showTitle": false,
          "inputWidgets": {},
          "nuid": "deb0c77c-24f4-41f9-a2f1-4ffc0c0b4dd5"
        },
        "id": "IFdvWbWe20ff"
      }
    },
    {
      "cell_type": "code",
      "source": [
        "df.groupby('company')"
      ],
      "metadata": {
        "application/vnd.databricks.v1+cell": {
          "title": "",
          "showTitle": false,
          "inputWidgets": {},
          "nuid": "ba4a2c2a-d518-4139-974b-98ce275342f6"
        },
        "id": "uOPwLG7-20fg",
        "outputId": "56a1763d-d2dd-48af-8957-f8b0e92672bf"
      },
      "outputs": [
        {
          "output_type": "display_data",
          "metadata": {
            "application/vnd.databricks.v1+output": {
              "datasetInfos": [],
              "data": "Out[42]: <pyspark.sql.group.GroupedData at 0x7febaf354f70>",
              "removedWidgets": [],
              "addedWidgets": {},
              "metadata": {},
              "type": "ansi",
              "arguments": {}
            }
          },
          "data": {
            "text/plain": [
              "Out[42]: <pyspark.sql.group.GroupedData at 0x7febaf354f70>"
            ]
          },
          "transient": null
        }
      ],
      "execution_count": null
    },
    {
      "cell_type": "code",
      "source": [
        "df.groupby('salary_more_then_100k').sum.show()"
      ],
      "metadata": {
        "application/vnd.databricks.v1+cell": {
          "title": "",
          "showTitle": false,
          "inputWidgets": {},
          "nuid": "f0f423f8-70a3-465c-a1d1-6afd06fcbc53"
        },
        "id": "slKrxezO20fg",
        "outputId": "c479710e-7f0f-4c27-f0ab-828933255477"
      },
      "outputs": [
        {
          "output_type": "display_data",
          "metadata": {
            "application/vnd.databricks.v1+output": {
              "data": "\u001b[0;31m---------------------------------------------------------------------------\u001b[0m\n\u001b[0;31mAttributeError\u001b[0m                            Traceback (most recent call last)\n\u001b[0;32m<command-2950075883006221>\u001b[0m in \u001b[0;36m<module>\u001b[0;34m\u001b[0m\n\u001b[0;32m----> 1\u001b[0;31m \u001b[0mdf\u001b[0m\u001b[0;34m.\u001b[0m\u001b[0mgroupby\u001b[0m\u001b[0;34m(\u001b[0m\u001b[0;34m'salary_more_then_100k'\u001b[0m\u001b[0;34m)\u001b[0m\u001b[0;34m.\u001b[0m\u001b[0msum\u001b[0m\u001b[0;34m.\u001b[0m\u001b[0mshow\u001b[0m\u001b[0;34m(\u001b[0m\u001b[0;34m)\u001b[0m\u001b[0;34m\u001b[0m\u001b[0;34m\u001b[0m\u001b[0m\n\u001b[0m\n\u001b[0;31mAttributeError\u001b[0m: 'function' object has no attribute 'show'",
              "errorSummary": "<span class='ansi-red-fg'>AttributeError</span>: 'function' object has no attribute 'show'",
              "metadata": {},
              "errorTraceType": "ansi",
              "type": "ipynbError",
              "arguments": {}
            }
          },
          "data": {
            "text/plain": [
              "\u001b[0;31m---------------------------------------------------------------------------\u001b[0m\n\u001b[0;31mAttributeError\u001b[0m                            Traceback (most recent call last)\n\u001b[0;32m<command-2950075883006221>\u001b[0m in \u001b[0;36m<module>\u001b[0;34m\u001b[0m\n\u001b[0;32m----> 1\u001b[0;31m \u001b[0mdf\u001b[0m\u001b[0;34m.\u001b[0m\u001b[0mgroupby\u001b[0m\u001b[0;34m(\u001b[0m\u001b[0;34m'salary_more_then_100k'\u001b[0m\u001b[0;34m)\u001b[0m\u001b[0;34m.\u001b[0m\u001b[0msum\u001b[0m\u001b[0;34m.\u001b[0m\u001b[0mshow\u001b[0m\u001b[0;34m(\u001b[0m\u001b[0;34m)\u001b[0m\u001b[0;34m\u001b[0m\u001b[0;34m\u001b[0m\u001b[0m\n\u001b[0m\n\u001b[0;31mAttributeError\u001b[0m: 'function' object has no attribute 'show'"
            ]
          },
          "transient": null
        }
      ],
      "execution_count": null
    },
    {
      "cell_type": "code",
      "source": [
        "df.groupby('salary_more_then_100k').max().show()"
      ],
      "metadata": {
        "application/vnd.databricks.v1+cell": {
          "title": "",
          "showTitle": false,
          "inputWidgets": {},
          "nuid": "eccd8ec2-2fea-4b03-9a6d-e08236057044"
        },
        "id": "2JFUp24i20fh",
        "outputId": "e627a401-8426-4c19-f328-357ff1264e52"
      },
      "outputs": [
        {
          "output_type": "display_data",
          "metadata": {
            "application/vnd.databricks.v1+output": {
              "data": "",
              "errorSummary": "",
              "metadata": {},
              "errorTraceType": null,
              "type": "ipynbError",
              "arguments": {}
            }
          },
          "data": {
            "text/html": [
              "<style scoped>\n  .ansiout {\n    display: block;\n    unicode-bidi: embed;\n    white-space: pre-wrap;\n    word-wrap: break-word;\n    word-break: break-all;\n    font-family: \"Source Code Pro\", \"Menlo\", monospace;;\n    font-size: 13px;\n    color: #555;\n    margin-left: 4px;\n    line-height: 19px;\n  }\n</style>"
            ]
          },
          "transient": null
        }
      ],
      "execution_count": null
    },
    {
      "cell_type": "code",
      "source": [
        "df.agg({'salary_more_then_100k' : ' sum'}).show()"
      ],
      "metadata": {
        "application/vnd.databricks.v1+cell": {
          "title": "",
          "showTitle": false,
          "inputWidgets": {},
          "nuid": "17ebf50c-4d38-468d-b37e-e68391d08bdf"
        },
        "id": "8WUA1_-820fh",
        "outputId": "9faf399e-4a5e-47cd-e21f-6b77d8802715"
      },
      "outputs": [
        {
          "output_type": "display_data",
          "metadata": {
            "application/vnd.databricks.v1+output": {
              "data": "",
              "errorSummary": "",
              "metadata": {},
              "errorTraceType": null,
              "type": "ipynbError",
              "arguments": {}
            }
          },
          "data": {
            "text/html": [
              "<style scoped>\n  .ansiout {\n    display: block;\n    unicode-bidi: embed;\n    white-space: pre-wrap;\n    word-wrap: break-word;\n    word-break: break-all;\n    font-family: \"Source Code Pro\", \"Menlo\", monospace;;\n    font-size: 13px;\n    color: #555;\n    margin-left: 4px;\n    line-height: 19px;\n  }\n</style>"
            ]
          },
          "transient": null
        }
      ],
      "execution_count": null
    },
    {
      "cell_type": "markdown",
      "source": [
        "- method : arr,apply,avg ,count ,max , means ,min ,pivot"
      ],
      "metadata": {
        "application/vnd.databricks.v1+cell": {
          "title": "",
          "showTitle": false,
          "inputWidgets": {},
          "nuid": "e1c88642-9d6e-4da9-96f9-a53752285048"
        },
        "id": "ZNJauEaO20fi"
      }
    },
    {
      "cell_type": "code",
      "source": [
        "df.take(2)\n",
        "df.tail()\n",
        "df.topandas()\n"
      ],
      "metadata": {
        "application/vnd.databricks.v1+cell": {
          "title": "",
          "showTitle": false,
          "inputWidgets": {},
          "nuid": "82f2308d-1998-49c4-9ecb-775af85d123e"
        },
        "id": "go9gwZQC20fi",
        "outputId": "a074da98-c490-4f86-c3f6-bd651a783faf"
      },
      "outputs": [
        {
          "output_type": "display_data",
          "metadata": {
            "application/vnd.databricks.v1+output": {
              "data": "",
              "errorSummary": "",
              "metadata": {},
              "errorTraceType": null,
              "type": "ipynbError",
              "arguments": {}
            }
          },
          "data": {
            "text/html": [
              "<style scoped>\n  .ansiout {\n    display: block;\n    unicode-bidi: embed;\n    white-space: pre-wrap;\n    word-wrap: break-word;\n    word-break: break-all;\n    font-family: \"Source Code Pro\", \"Menlo\", monospace;;\n    font-size: 13px;\n    color: #555;\n    margin-left: 4px;\n    line-height: 19px;\n  }\n</style>"
            ]
          },
          "transient": null
        }
      ],
      "execution_count": null
    }
  ],
  "metadata": {
    "application/vnd.databricks.v1+notebook": {
      "notebookName": "Pyspark",
      "dashboards": [],
      "notebookMetadata": {
        "pythonIndentUnit": 4
      },
      "language": "python",
      "widgets": {},
      "notebookOrigID": 2950075883006184
    },
    "colab": {
      "name": "Pyspark.ipynb",
      "provenance": [],
      "include_colab_link": true
    }
  },
  "nbformat": 4,
  "nbformat_minor": 0
}