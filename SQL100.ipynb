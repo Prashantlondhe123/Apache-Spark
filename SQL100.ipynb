{
  "nbformat": 4,
  "nbformat_minor": 0,
  "metadata": {
    "colab": {
      "name": "SQL100.ipynb",
      "provenance": [],
      "authorship_tag": "ABX9TyObfx1UbVbslddjMqWdoNq6",
      "include_colab_link": true
    },
    "kernelspec": {
      "name": "python3",
      "display_name": "Python 3"
    },
    "language_info": {
      "name": "python"
    }
  },
  "cells": [
    {
      "cell_type": "markdown",
      "metadata": {
        "id": "view-in-github",
        "colab_type": "text"
      },
      "source": [
        "<a href=\"https://colab.research.google.com/github/Prashantlondhe123/Big-Data-Pyspark/blob/main/SQL100.ipynb\" target=\"_parent\"><img src=\"https://colab.research.google.com/assets/colab-badge.svg\" alt=\"Open In Colab\"/></a>"
      ]
    },
    {
      "cell_type": "markdown",
      "source": [
        "#SQl100 PRACTICE QUESTIONS "
      ],
      "metadata": {
        "id": "sjNSHaYQTumv"
      }
    },
    {
      "cell_type": "markdown",
      "source": [
        "##31)Japanese Cities' Attributes\n",
        ">Query all attributes of every Japanese city in the CITY table. The COUNTRYCODE for Japan is JPN.\n",
        "The CITY table is described as follows:\n",
        "\n",
        "- select * from city \n",
        "where COUNTRYCODE='jpn'"
      ],
      "metadata": {
        "id": "J0nU7S34UD3c"
      }
    },
    {
      "cell_type": "markdown",
      "source": [
        ""
      ],
      "metadata": {
        "id": "EseddH0WUb6Y"
      }
    }
  ]
}