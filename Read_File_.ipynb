{
  "nbformat": 4,
  "nbformat_minor": 0,
  "metadata": {
    "colab": {
      "name": "Read File .ipynb",
      "provenance": [],
      "authorship_tag": "ABX9TyNO238HvdtAeSOxvLZpHKr9",
      "include_colab_link": true
    },
    "kernelspec": {
      "name": "python3",
      "display_name": "Python 3"
    },
    "language_info": {
      "name": "python"
    }
  },
  "cells": [
    {
      "cell_type": "markdown",
      "metadata": {
        "id": "view-in-github",
        "colab_type": "text"
      },
      "source": [
        "<a href=\"https://colab.research.google.com/github/Prashantlondhe123/Big-Data-Pyspark/blob/main/Read_File_.ipynb\" target=\"_parent\"><img src=\"https://colab.research.google.com/assets/colab-badge.svg\" alt=\"Open In Colab\"/></a>"
      ]
    },
    {
      "cell_type": "markdown",
      "source": [
        "- Parquet File"
      ],
      "metadata": {
        "id": "oWCgZkm4DbaV"
      }
    },
    {
      "cell_type": "markdown",
      "source": [
        "df = spark.read.load(\"examples/src/main/resources/users.parquet\")\n",
        "df.select(\"name\", \"favorite_color\").write.save(\"namesAndFavColors.parquet\")"
      ],
      "metadata": {
        "id": "N-OrGsS5LsSj"
      }
    },
    {
      "cell_type": "markdown",
      "source": [
        "- Json File"
      ],
      "metadata": {
        "id": "aU93FPHcLwNG"
      }
    },
    {
      "cell_type": "markdown",
      "source": [
        "df = spark.read.load(\"examples/src/main/resources/people.json\", format=\"json\")"
      ],
      "metadata": {
        "id": "yUvZJwbIL-4T"
      }
    },
    {
      "cell_type": "markdown",
      "source": [
        "- Csv File "
      ],
      "metadata": {
        "id": "B_vYLBTnMAef"
      }
    },
    {
      "cell_type": "markdown",
      "source": [
        "df = spark.read.load(\"examples/src/main/resources/people.csv\",\n",
        "                     format=\"csv\", sep=\";\", inferSchema=\"true\", header=\"true\")"
      ],
      "metadata": {
        "id": "3Xd4WozmMGxb"
      }
    },
    {
      "cell_type": "markdown",
      "source": [
        "- ORC file "
      ],
      "metadata": {
        "id": "VzbmqUAMMK7P"
      }
    },
    {
      "cell_type": "markdown",
      "source": [
        "df = spark.read.orc(\"examples/src/main/resources/users.orc\")\n",
        "(df.write.format(\"orc\")\n",
        "    .option(\"orc.bloom.filter.columns\", \"favorite_color\")\n",
        "    .option(\"orc.dictionary.key.threshold\", \"1.0\")\n",
        "    .option(\"orc.column.encoding.direct\", \"name\")\n",
        "    .save(\"users_with_options.orc\"))"
      ],
      "metadata": {
        "id": "GsScLCypMYHI"
      }
    },
    {
      "cell_type": "markdown",
      "source": [
        "**Run SQL on files directly\n",
        "Instead of using read API to load a file into DataFrame and query it, you can also query that file directly with SQL.** "
      ],
      "metadata": {
        "id": "0CNTthHTMjNX"
      }
    },
    {
      "cell_type": "markdown",
      "source": [
        "df = spark.sql(\"SELECT * FROM parquet.`examples/src/main/resources/users.parquet`\")"
      ],
      "metadata": {
        "id": "SqO_LM66NA9a"
      }
    },
    {
      "cell_type": "markdown",
      "source": [
        "- Text file "
      ],
      "metadata": {
        "id": "UO2uvkv_OIlA"
      }
    },
    {
      "cell_type": "markdown",
      "source": [
        "  **spark is from the previous example**\n",
        "\n",
        "\n",
        "\n",
        "sc = spark.sparkContext\n",
        "\n",
        "**A text dataset is pointed to by path.\n",
        " The path can be either a single text file or a directory of text files**\n",
        "\n",
        "\n",
        "\n",
        "\n",
        "path = \"examples/src/main/resources/people.txt\"\n",
        "\n",
        "df1 = spark.read.text(path)"
      ],
      "metadata": {
        "id": "CyZXkpWpNxL9"
      }
    },
    {
      "cell_type": "markdown",
      "source": [
        "- Avro file "
      ],
      "metadata": {
        "id": "YuVbv-96Ooov"
      }
    },
    {
      "cell_type": "markdown",
      "source": [
        "df = spark.read.format(\"avro\").load(\"examples/src/main/resources/users.avro\")\n",
        "df.select(\"name\", \"favorite_color\").write.format(\"avro\").save(\"namesAndFavColors.avro\")"
      ],
      "metadata": {
        "id": "fG4VsnVXOro7"
      }
    },
    {
      "cell_type": "markdown",
      "source": [
        "- Binary file "
      ],
      "metadata": {
        "id": "KXIljb99OtIs"
      }
    },
    {
      "cell_type": "markdown",
      "source": [
        "spark.read.format(\"binaryFile\").option(\"pathGlobFilter\", \"*.png\").load(\"/path/to/data\")"
      ],
      "metadata": {
        "id": "dPrQQdv6O4BH"
      }
    },
    {
      "cell_type": "code",
      "execution_count": null,
      "metadata": {
        "id": "MS6y1jEYDWg4"
      },
      "outputs": [],
      "source": [
        ""
      ]
    }
  ]
}