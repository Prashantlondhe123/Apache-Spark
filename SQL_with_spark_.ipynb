{
  "nbformat": 4,
  "nbformat_minor": 0,
  "metadata": {
    "colab": {
      "name": "SQL with spark .ipynb",
      "provenance": [],
      "authorship_tag": "ABX9TyPdBuen75++XU99agbGKyUr",
      "include_colab_link": true
    },
    "kernelspec": {
      "name": "python3",
      "display_name": "Python 3"
    },
    "language_info": {
      "name": "python"
    }
  },
  "cells": [
    {
      "cell_type": "markdown",
      "metadata": {
        "id": "view-in-github",
        "colab_type": "text"
      },
      "source": [
        "<a href=\"https://colab.research.google.com/github/Prashantlondhe123/Big-Data-Pyspark/blob/main/SQL_with_spark_.ipynb\" target=\"_parent\"><img src=\"https://colab.research.google.com/assets/colab-badge.svg\" alt=\"Open In Colab\"/></a>"
      ]
    },
    {
      "cell_type": "markdown",
      "source": [
        "1.\n",
        "\n",
        "\n",
        "from pyspark.sql import SparkSession\n",
        "\n",
        "spark = SparkSession \\\n",
        "    .builder \\\n",
        "    .appName(\"Python Spark SQL basic example\") \\\n",
        "    .config(\"spark.some.config.option\", \"some-value\") \\\n",
        "    .getOrCreate()\n"
      ],
      "metadata": {
        "id": "2sgD1SGVWm5L"
      }
    },
    {
      "cell_type": "markdown",
      "source": [
        "2.\n",
        "\n",
        "\n",
        " spark is an existing SparkSession\n",
        "\n",
        " \n",
        "df = spark.read.json(\"examples/src/main/resources/people.json\")"
      ],
      "metadata": {
        "id": "9B0MaEvGWxi_"
      }
    },
    {
      "cell_type": "markdown",
      "source": [
        "3.\n",
        "\n",
        "Register the DataFrame as a SQL temporary view\n",
        "\n",
        "\n",
        "\n",
        "df.createOrReplaceTempView(\"people\")"
      ],
      "metadata": {
        "id": "JEsQioO8W7UQ"
      }
    },
    {
      "cell_type": "markdown",
      "source": [
        "4.\n",
        "\n",
        "\n",
        "sqlDF = spark.sql(\"SELECT * FROM people\")"
      ],
      "metadata": {
        "id": "xetZ5Cy8XL1m"
      }
    },
    {
      "cell_type": "markdown",
      "source": [
        "5.\n",
        "\n",
        "\n",
        "\n",
        "spark.sql(\"SELECT * FROM people\").show()"
      ],
      "metadata": {
        "id": "yFawJP6VXS-F"
      }
    },
    {
      "cell_type": "markdown",
      "source": [
        "## Global Temporary View\n"
      ],
      "metadata": {
        "id": "u9lRltvcXZ_P"
      }
    },
    {
      "cell_type": "markdown",
      "source": [
        "**Register the DataFrame as a global temporary view**\n",
        "\n",
        "\n",
        "\n",
        "df.createGlobalTempView(\"people\")\n",
        "\n",
        "**Global temporary view is tied to a system preserved database `global_temp`**\n",
        "\n",
        "\n",
        "\n",
        "spark.sql(\"SELECT * FROM global_temp.people\").show()"
      ],
      "metadata": {
        "id": "QwegQvfbXynB"
      }
    },
    {
      "cell_type": "markdown",
      "source": [
        " **Global temporary view is cross-session**\n",
        "\n",
        "\n",
        "\n",
        "spark.newSession().sql(\"SELECT * FROM global_temp.people\").show()"
      ],
      "metadata": {
        "id": "55tDFD7fYRKJ"
      }
    },
    {
      "cell_type": "code",
      "execution_count": null,
      "metadata": {
        "id": "icY1bnWAQ0LP"
      },
      "outputs": [],
      "source": [
        ""
      ]
    }
  ]
}